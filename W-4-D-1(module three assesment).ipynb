{
 "cells": [
  {
   "cell_type": "markdown",
   "id": "44d7b62e",
   "metadata": {},
   "source": [
    "# (1) Create a Pandas DataFrame with below given two-dimensional list "
   ]
  },
  {
   "cell_type": "code",
   "execution_count": 2,
   "id": "da416692",
   "metadata": {},
   "outputs": [
    {
     "name": "stdout",
     "output_type": "stream",
     "text": [
      "     Name  Age\n",
      "0     Ram   25\n",
      "1  Ramesh   30\n",
      "2   Shyam   26\n",
      "3  Naresh   22\n"
     ]
    }
   ],
   "source": [
    "import pandas as pd\n",
    "list=  [['Ram', 25], ['Ramesh', 30], ['Shyam', 26], ['Naresh', 22]] \n",
    "df=pd.DataFrame(list,columns=['Name','Age'])\n",
    "print(df)"
   ]
  },
  {
   "cell_type": "markdown",
   "id": "815b31ee",
   "metadata": {},
   "source": [
    "# (2)Create a Pandas DataFrame with below given dictionary object?"
   ]
  },
  {
   "cell_type": "code",
   "execution_count": 3,
   "id": "971433f0",
   "metadata": {},
   "outputs": [
    {
     "name": "stdout",
     "output_type": "stream",
     "text": [
      "     Subject  Marks\n",
      "0       Math     20\n",
      "1    Physics     21\n",
      "2  Chemistry     19\n"
     ]
    }
   ],
   "source": [
    "data = {'Subject': ['Math', 'Physics', 'Chemistry'], 'Marks': [20, 21, 19]}\n",
    "df = pd.DataFrame(data)\n",
    "print(df)"
   ]
  },
  {
   "cell_type": "markdown",
   "id": "c925c817",
   "metadata": {},
   "source": [
    "# (3)Create a JSON file for below object and Create a Pandas DataFrame using the created JSON file?"
   ]
  },
  {
   "cell_type": "code",
   "execution_count": 4,
   "id": "cb885253",
   "metadata": {},
   "outputs": [],
   "source": [
    "import json\n",
    "\n",
    "data = {\"Courses\":{\"r1\":\"Spark\"},\"Fee\":{\"r1\":\"25000\"},\"Duration\":{\"r1\":\"50 Days\"}}\n",
    "\n",
    "with open('data.json', 'w') as f:\n",
    "    json.dump(data, f)\n"
   ]
  },
  {
   "cell_type": "code",
   "execution_count": 5,
   "id": "7fe0a344",
   "metadata": {},
   "outputs": [
    {
     "name": "stdout",
     "output_type": "stream",
     "text": [
      "   Courses    Fee Duration\n",
      "r1   Spark  25000  50 Days\n"
     ]
    }
   ],
   "source": [
    "import pandas as pd\n",
    "\n",
    "df = pd.read_json('data.json')\n",
    "\n",
    "print(df)\n"
   ]
  },
  {
   "cell_type": "markdown",
   "id": "c1079733",
   "metadata": {},
   "source": [
    "# (4) Create Python Tkinter GUI program to add a button in your application using tkinter module."
   ]
  },
  {
   "cell_type": "code",
   "execution_count": 2,
   "id": "14e283d7",
   "metadata": {},
   "outputs": [
    {
     "name": "stdout",
     "output_type": "stream",
     "text": [
      "Collecting tk\n",
      "  Downloading tk-0.1.0-py3-none-any.whl (3.9 kB)\n",
      "Installing collected packages: tk\n",
      "Successfully installed tk-0.1.0\n"
     ]
    }
   ],
   "source": [
    "!pip install tk"
   ]
  },
  {
   "cell_type": "code",
   "execution_count": 3,
   "id": "0f6f8a39",
   "metadata": {},
   "outputs": [],
   "source": [
    "import tkinter as tk\n",
    "\n",
    "# Create the main window\n",
    "root = tk.Tk()\n",
    "\n",
    "# Set the window title\n",
    "root.title(\"My GUI App\")\n",
    "\n",
    "# Create a button widget\n",
    "button = tk.Button(root, text=\"Click me!\")\n",
    "\n",
    "# Pack the button widget onto the window\n",
    "button.pack()\n",
    "\n",
    "# Start the Tkinter event loop\n",
    "root.mainloop()\n"
   ]
  },
  {
   "cell_type": "markdown",
   "id": "3857ffdf",
   "metadata": {},
   "source": [
    "# (5) Create Python Jupyter notebook of Sk-Learn program using Support Vector Machine(SVM) to classify cancer samples diagnosed as Benign or Malignant \n",
    "# Dataset: https://raw.githubusercontent.com/AgustinCdeCelis/Cancer-Logistic-Regression/main/data.csv\n"
   ]
  },
  {
   "cell_type": "code",
   "execution_count": 10,
   "id": "ad389a7c",
   "metadata": {},
   "outputs": [],
   "source": [
    "import pandas as pd\n",
    "import numpy as np\n",
    "import matplotlib.pyplot as plt\n",
    "import seaborn as sns\n",
    "%matplotlib inline"
   ]
  },
  {
   "cell_type": "code",
   "execution_count": 12,
   "id": "b1389f9a",
   "metadata": {},
   "outputs": [],
   "source": [
    "from sklearn.datasets import load_breast_cancer\n",
    "cancer = load_breast_cancer()"
   ]
  },
  {
   "cell_type": "code",
   "execution_count": 13,
   "id": "1ad1519a",
   "metadata": {},
   "outputs": [
    {
     "ename": "NameError",
     "evalue": "name 'cancer_dataset' is not defined",
     "output_type": "error",
     "traceback": [
      "\u001b[1;31m---------------------------------------------------------------------------\u001b[0m",
      "\u001b[1;31mNameError\u001b[0m                                 Traceback (most recent call last)",
      "\u001b[1;32m~\\AppData\\Local\\Temp\\ipykernel_20012\\2546746251.py\u001b[0m in \u001b[0;36m<module>\u001b[1;34m\u001b[0m\n\u001b[1;32m----> 1\u001b[1;33m df = pd.DataFrame(np.c_[cancer_dataset['data'],cancer_dataset['target']],\n\u001b[0m\u001b[0;32m      2\u001b[0m              columns = np.append(cancer_dataset['feature_names'], ['target']))\n\u001b[0;32m      3\u001b[0m \u001b[0mdf\u001b[0m\u001b[1;33m.\u001b[0m\u001b[0mhead\u001b[0m\u001b[1;33m(\u001b[0m\u001b[1;33m)\u001b[0m\u001b[1;33m\u001b[0m\u001b[1;33m\u001b[0m\u001b[0m\n",
      "\u001b[1;31mNameError\u001b[0m: name 'cancer_dataset' is not defined"
     ]
    }
   ],
   "source": [
    "df = pd.DataFrame(np.c_[cancer_dataset['data'],cancer_dataset['target']],\n",
    "             columns = np.append(cancer_dataset['feature_names'], ['target']))\n",
    "df.head()"
   ]
  },
  {
   "cell_type": "code",
   "execution_count": null,
   "id": "a3917461",
   "metadata": {},
   "outputs": [],
   "source": []
  },
  {
   "cell_type": "code",
   "execution_count": null,
   "id": "59b23f53",
   "metadata": {},
   "outputs": [],
   "source": []
  },
  {
   "cell_type": "code",
   "execution_count": null,
   "id": "7332ce06",
   "metadata": {},
   "outputs": [],
   "source": []
  }
 ],
 "metadata": {
  "kernelspec": {
   "display_name": "Python 3 (ipykernel)",
   "language": "python",
   "name": "python3"
  },
  "language_info": {
   "codemirror_mode": {
    "name": "ipython",
    "version": 3
   },
   "file_extension": ".py",
   "mimetype": "text/x-python",
   "name": "python",
   "nbconvert_exporter": "python",
   "pygments_lexer": "ipython3",
   "version": "3.9.13"
  }
 },
 "nbformat": 4,
 "nbformat_minor": 5
}
