{
 "cells": [
  {
   "cell_type": "code",
   "execution_count": 1,
   "id": "5deeb683",
   "metadata": {},
   "outputs": [
    {
     "data": {
      "text/plain": [
       "(1, 2, 2323, 'ggwg', 43.45)"
      ]
     },
     "execution_count": 1,
     "metadata": {},
     "output_type": "execute_result"
    }
   ],
   "source": [
    "T=(1,2,2323,'ggwg',43.45)\n",
    "T"
   ]
  },
  {
   "cell_type": "code",
   "execution_count": 2,
   "id": "efc79128",
   "metadata": {},
   "outputs": [
    {
     "name": "stdout",
     "output_type": "stream",
     "text": [
      "(2323, 'ggwg', 43.45)\n"
     ]
    }
   ],
   "source": [
    "print(T[2:5])"
   ]
  },
  {
   "cell_type": "code",
   "execution_count": 6,
   "id": "afe509e0",
   "metadata": {},
   "outputs": [
    {
     "data": {
      "text/plain": [
       "['pqrs', 123, 1000, 'python', 98.6]"
      ]
     },
     "execution_count": 6,
     "metadata": {},
     "output_type": "execute_result"
    }
   ],
   "source": [
    "tuple=('pqrs',123,2.14,'python',98.6)\n",
    "list1=['pqrs',123,2.14,'python',98.6]\n",
    "#tuple[2]=1000\n",
    "list1[2]=1000\n",
    "list1"
   ]
  },
  {
   "cell_type": "code",
   "execution_count": 13,
   "id": "7e16b0d5",
   "metadata": {},
   "outputs": [
    {
     "name": "stdout",
     "output_type": "stream",
     "text": [
      "{'name': 'rohit', 'id': '1234', 'dept': 'technical'}\n",
      "{'one': 'this is python', 2: 'this is java'}\n",
      "dict_keys(['name', 'id', 'dept'])\n",
      "dict_keys(['one', 2])\n",
      "dict_values(['rohit', '1234', 'technical'])\n",
      "dict_values(['this is python', 'this is java'])\n"
     ]
    }
   ],
   "source": [
    "dict1={'name':\"rohit\",'id':\"1234\",'dept':\"technical\"}\n",
    "dict2={}\n",
    "dict2['one']=\"this is python\"\n",
    "dict2[2]=\"this is java\"\n",
    "print(dict1)\n",
    "print(dict2)\n",
    "print(dict1.keys())\n",
    "print(dict2.keys())\n",
    "print(dict1.values())\n",
    "print(dict2.values())"
   ]
  },
  {
   "cell_type": "code",
   "execution_count": 16,
   "id": "fb89bcbd",
   "metadata": {},
   "outputs": [
    {
     "name": "stdout",
     "output_type": "stream",
     "text": [
      "the count is  0\n",
      "the count is  1\n",
      "the count is  2\n",
      "the count is  3\n",
      "the count is  4\n",
      "the count is  5\n",
      "the count is  6\n",
      "the count is  7\n",
      "the count is  8\n",
      "good bye\n"
     ]
    }
   ],
   "source": [
    "count=0\n",
    "while(count<9):\n",
    "    print(\"the count is \",count)\n",
    "    count=count+1\n",
    "print(\"good bye\")"
   ]
  },
  {
   "cell_type": "code",
   "execution_count": 17,
   "id": "6fb960e3",
   "metadata": {},
   "outputs": [
    {
     "name": "stdout",
     "output_type": "stream",
     "text": [
      "0 is less than 5\n",
      "1 is less than 5\n",
      "2 is less than 5\n",
      "3 is less than 5\n",
      "4 is less than 5\n",
      "5 is grater than 5\n"
     ]
    }
   ],
   "source": [
    "count=0\n",
    "while count<5:\n",
    "    print(count,\"is less than 5\")\n",
    "    count=count+1\n",
    "else:\n",
    "    print(count,\"is grater than 5\")"
   ]
  },
  {
   "cell_type": "code",
   "execution_count": 19,
   "id": "40590a60",
   "metadata": {},
   "outputs": [
    {
     "name": "stdout",
     "output_type": "stream",
     "text": [
      "current letter p\n",
      "current letter y\n",
      "current letter t\n",
      "current letter h\n",
      "current letter o\n",
      "current letter n\n",
      "current fruit banana\n",
      "current fruit apple\n",
      "current fruit mango\n",
      "good bye!!!\n"
     ]
    }
   ],
   "source": [
    "for letter in \"python\":\n",
    "    print(\"current letter\",letter)\n",
    "fruit=['banana','apple','mango']\n",
    "for fruit in fruit:\n",
    "    print(\"current fruit\",fruit)\n",
    "print(\"good bye!!!\")"
   ]
  },
  {
   "cell_type": "code",
   "execution_count": 32,
   "id": "cd4b5a30",
   "metadata": {},
   "outputs": [
    {
     "name": "stdout",
     "output_type": "stream",
     "text": [
      "10 equals 2 * 5\n",
      "12 equals 2 * 6\n",
      "14 equals 2 * 7\n",
      "16 equals 2 * 8\n",
      "18 equals 2 * 9\n"
     ]
    }
   ],
   "source": [
    "for num in range(10,20):\n",
    "    for i in range(2,num):\n",
    "        if num%i==0:\n",
    "            j=num/i\n",
    "            print('%d equals %d * %d' % (num,i,j))\n",
    "        break\n",
    "    else:\n",
    "            print(num,'is a prime number')\n",
    "            break    \n",
    "           "
   ]
  },
  {
   "cell_type": "code",
   "execution_count": 28,
   "id": "ea2fb0a3",
   "metadata": {},
   "outputs": [
    {
     "name": "stdout",
     "output_type": "stream",
     "text": [
      "10\n",
      "11\n",
      "12\n",
      "13\n",
      "14\n",
      "15\n",
      "16\n",
      "17\n",
      "18\n",
      "19\n"
     ]
    }
   ],
   "source": [
    "for num in range(10,20):\n",
    "    print(num)"
   ]
  },
  {
   "cell_type": "code",
   "execution_count": 41,
   "id": "1ed8eee4",
   "metadata": {},
   "outputs": [
    {
     "data": {
      "text/plain": [
       "10"
      ]
     },
     "execution_count": 41,
     "metadata": {},
     "output_type": "execute_result"
    }
   ],
   "source": [
    "str=\"university\"\n",
    "len(str)"
   ]
  },
  {
   "cell_type": "code",
   "execution_count": 42,
   "id": "28002996",
   "metadata": {},
   "outputs": [
    {
     "name": "stdout",
     "output_type": "stream",
     "text": [
      "['parul', 'bharat', 45.5, 'vadodra', 99]\n"
     ]
    }
   ],
   "source": [
    "list1=['parul','bharat',45.5,'vadodra',99,22]\n",
    "list1.remove(22)\n",
    "print(list1)"
   ]
  },
  {
   "cell_type": "code",
   "execution_count": 47,
   "id": "89920750",
   "metadata": {},
   "outputs": [
    {
     "name": "stdout",
     "output_type": "stream",
     "text": [
      "3.141592653589793\n",
      "78.53981633974483\n"
     ]
    }
   ],
   "source": [
    "from math import pi\n",
    "print(pi)\n",
    "r=5\n",
    "area_circle=pi*(r**2)\n",
    "print(area_circle)"
   ]
  },
  {
   "cell_type": "code",
   "execution_count": 54,
   "id": "4f7c01b4",
   "metadata": {},
   "outputs": [
    {
     "name": "stdout",
     "output_type": "stream",
     "text": [
      "select operation\n",
      "enter 1 for add\n",
      "enter 2 for substract\n",
      "enter 3 for multiply\n",
      "enter 4 for division\n",
      "enter the first number10\n",
      "enter second number20\n",
      "Please enter operation number give above3\n",
      "10 * 20 200\n"
     ]
    }
   ],
   "source": [
    "def add(x,y):\n",
    "    return x+y\n",
    "def substract(x,y):\n",
    "    return x-y\n",
    "def multiply(x,y):\n",
    "    return x*y\n",
    "def division(x,y):\n",
    "    return(x,y)\n",
    "\n",
    "print(\"select operation\")\n",
    "print(\"enter 1 for add\")\n",
    "print(\"enter 2 for substract\")\n",
    "print(\"enter 3 for multiply\")\n",
    "print(\"enter 4 for division\")\n",
    "num1=int(input(\"enter the first number\"))\n",
    "num2=int(input(\"enter second number\"))\n",
    "num=input(\"Please enter operation number give above\")\n",
    "if num=='1':\n",
    "    print(num1,\"+\",num2,add(num1,num2))\n",
    "elif num=='2':\n",
    "    print(num1,\"-\",num2,substract(num1,num2))\n",
    "elif num=='3':\n",
    "    print(num1,\"*\",num2,multiply(num1,num2))\n",
    "elif num=='4':\n",
    "    print(num1,\"/\",num2,division(num1,num2))\n",
    "else:\n",
    "    print(\"not enter valid number for operation\")\n",
    "    \n",
    "        \n"
   ]
  },
  {
   "cell_type": "code",
   "execution_count": 53,
   "id": "c06d97f2",
   "metadata": {},
   "outputs": [
    {
     "name": "stdout",
     "output_type": "stream",
     "text": [
      "Defaulting to user installation because normal site-packages is not writeable\n",
      "Requirement already satisfied: keras in c:\\users\\milan\\appdata\\roaming\\python\\python39\\site-packages (2.11.0)\n",
      "Note: you may need to restart the kernel to use updated packages.\n"
     ]
    }
   ],
   "source": [
    "pip install keras\n"
   ]
  },
  {
   "cell_type": "code",
   "execution_count": null,
   "id": "802da61e",
   "metadata": {},
   "outputs": [],
   "source": []
  }
 ],
 "metadata": {
  "kernelspec": {
   "display_name": "Python 3 (ipykernel)",
   "language": "python",
   "name": "python3"
  },
  "language_info": {
   "codemirror_mode": {
    "name": "ipython",
    "version": 3
   },
   "file_extension": ".py",
   "mimetype": "text/x-python",
   "name": "python",
   "nbconvert_exporter": "python",
   "pygments_lexer": "ipython3",
   "version": "3.9.13"
  }
 },
 "nbformat": 4,
 "nbformat_minor": 5
}
