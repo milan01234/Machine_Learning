{
 "cells": [
  {
   "cell_type": "markdown",
   "id": "dc7d1a59",
   "metadata": {},
   "source": [
    "# First neural network with keras "
   ]
  },
  {
   "cell_type": "code",
   "execution_count": 1,
   "id": "2bc44871",
   "metadata": {},
   "outputs": [],
   "source": [
    "from numpy import loadtxt\n",
    "from tensorflow import keras\n",
    "\n",
    "from tensorflow.keras.models import Sequential\n",
    "from tensorflow.keras.layers import Dense"
   ]
  },
  {
   "cell_type": "code",
   "execution_count": 2,
   "id": "6678f929",
   "metadata": {},
   "outputs": [],
   "source": [
    "\n",
    "# load the dataset\n",
    "dataset = loadtxt('pima-indians-diabetes.csv', delimiter=',')\n"
   ]
  },
  {
   "cell_type": "code",
   "execution_count": 3,
   "id": "8d88b070",
   "metadata": {},
   "outputs": [
    {
     "data": {
      "text/plain": [
       "array([[  6.   , 148.   ,  72.   , ...,   0.627,  50.   ,   1.   ],\n",
       "       [  1.   ,  85.   ,  66.   , ...,   0.351,  31.   ,   0.   ],\n",
       "       [  8.   , 183.   ,  64.   , ...,   0.672,  32.   ,   1.   ],\n",
       "       ...,\n",
       "       [  5.   , 121.   ,  72.   , ...,   0.245,  30.   ,   0.   ],\n",
       "       [  1.   , 126.   ,  60.   , ...,   0.349,  47.   ,   1.   ],\n",
       "       [  1.   ,  93.   ,  70.   , ...,   0.315,  23.   ,   0.   ]])"
      ]
     },
     "execution_count": 3,
     "metadata": {},
     "output_type": "execute_result"
    }
   ],
   "source": [
    "dataset"
   ]
  },
  {
   "cell_type": "code",
   "execution_count": 4,
   "id": "df312add",
   "metadata": {},
   "outputs": [],
   "source": [
    "# split into input (X) and output (y) variables\n",
    "X = dataset[:,0:8]\n",
    "y = dataset[:,8]"
   ]
  },
  {
   "cell_type": "code",
   "execution_count": 5,
   "id": "7c685232",
   "metadata": {},
   "outputs": [],
   "source": [
    "\n",
    "# define the keras model\n",
    "model = Sequential()\n",
    "model.add(Dense(8, input_dim=8, activation='relu'))\n",
    "model.add(Dense(8, activation='relu'))\n",
    "model.add(Dense(1, activation='sigmoid'))\n"
   ]
  },
  {
   "cell_type": "code",
   "execution_count": 6,
   "id": "96289fb2",
   "metadata": {},
   "outputs": [],
   "source": [
    "# compile the keras model\n",
    "model.compile(loss='binary_crossentropy', optimizer='adam', metrics=['accuracy'])\n"
   ]
  },
  {
   "cell_type": "code",
   "execution_count": 9,
   "id": "a69e0e8f",
   "metadata": {},
   "outputs": [
    {
     "name": "stdout",
     "output_type": "stream",
     "text": [
      "Epoch 1/30\n",
      "154/154 [==============================] - 0s 2ms/step - loss: 0.5401 - accuracy: 0.7344\n",
      "Epoch 2/30\n",
      "154/154 [==============================] - 0s 2ms/step - loss: 0.5423 - accuracy: 0.7409\n",
      "Epoch 3/30\n",
      "154/154 [==============================] - 0s 2ms/step - loss: 0.5547 - accuracy: 0.7370\n",
      "Epoch 4/30\n",
      "154/154 [==============================] - 0s 2ms/step - loss: 0.5298 - accuracy: 0.7383\n",
      "Epoch 5/30\n",
      "154/154 [==============================] - 0s 2ms/step - loss: 0.5366 - accuracy: 0.7422\n",
      "Epoch 6/30\n",
      "154/154 [==============================] - 0s 2ms/step - loss: 0.5383 - accuracy: 0.7344\n",
      "Epoch 7/30\n",
      "154/154 [==============================] - 0s 2ms/step - loss: 0.5266 - accuracy: 0.7409\n",
      "Epoch 8/30\n",
      "154/154 [==============================] - 0s 3ms/step - loss: 0.5405 - accuracy: 0.7383\n",
      "Epoch 9/30\n",
      "154/154 [==============================] - 0s 3ms/step - loss: 0.5241 - accuracy: 0.7513\n",
      "Epoch 10/30\n",
      "154/154 [==============================] - 0s 3ms/step - loss: 0.5202 - accuracy: 0.7435\n",
      "Epoch 11/30\n",
      "154/154 [==============================] - 1s 4ms/step - loss: 0.5258 - accuracy: 0.7448\n",
      "Epoch 12/30\n",
      "154/154 [==============================] - 1s 4ms/step - loss: 0.5222 - accuracy: 0.7591\n",
      "Epoch 13/30\n",
      "154/154 [==============================] - 0s 3ms/step - loss: 0.5166 - accuracy: 0.7539\n",
      "Epoch 14/30\n",
      "154/154 [==============================] - 1s 4ms/step - loss: 0.5157 - accuracy: 0.7565\n",
      "Epoch 15/30\n",
      "154/154 [==============================] - 0s 3ms/step - loss: 0.5213 - accuracy: 0.7422\n",
      "Epoch 16/30\n",
      "154/154 [==============================] - 0s 2ms/step - loss: 0.5184 - accuracy: 0.7643\n",
      "Epoch 17/30\n",
      "154/154 [==============================] - 0s 2ms/step - loss: 0.5231 - accuracy: 0.7422\n",
      "Epoch 18/30\n",
      "154/154 [==============================] - 0s 2ms/step - loss: 0.5108 - accuracy: 0.7578\n",
      "Epoch 19/30\n",
      "154/154 [==============================] - 0s 2ms/step - loss: 0.5156 - accuracy: 0.7422\n",
      "Epoch 20/30\n",
      "154/154 [==============================] - 0s 2ms/step - loss: 0.5113 - accuracy: 0.7500\n",
      "Epoch 21/30\n",
      "154/154 [==============================] - 0s 2ms/step - loss: 0.5202 - accuracy: 0.7578\n",
      "Epoch 22/30\n",
      "154/154 [==============================] - 0s 2ms/step - loss: 0.5112 - accuracy: 0.7448\n",
      "Epoch 23/30\n",
      "154/154 [==============================] - 0s 2ms/step - loss: 0.5173 - accuracy: 0.7526\n",
      "Epoch 24/30\n",
      "154/154 [==============================] - 0s 2ms/step - loss: 0.5098 - accuracy: 0.7513\n",
      "Epoch 25/30\n",
      "154/154 [==============================] - 0s 2ms/step - loss: 0.4970 - accuracy: 0.7591\n",
      "Epoch 26/30\n",
      "154/154 [==============================] - 0s 2ms/step - loss: 0.4996 - accuracy: 0.7474\n",
      "Epoch 27/30\n",
      "154/154 [==============================] - 0s 2ms/step - loss: 0.4969 - accuracy: 0.7539\n",
      "Epoch 28/30\n",
      "154/154 [==============================] - 0s 2ms/step - loss: 0.5051 - accuracy: 0.7591\n",
      "Epoch 29/30\n",
      "154/154 [==============================] - 0s 2ms/step - loss: 0.5083 - accuracy: 0.7591\n",
      "Epoch 30/30\n",
      "154/154 [==============================] - 0s 2ms/step - loss: 0.4981 - accuracy: 0.7604\n"
     ]
    },
    {
     "data": {
      "text/plain": [
       "<keras.callbacks.History at 0x163bf2bd788>"
      ]
     },
     "execution_count": 9,
     "metadata": {},
     "output_type": "execute_result"
    }
   ],
   "source": [
    "# fit the keras model on the dataset\n",
    "model.fit(X, y, epochs=30, batch_size=5)\n"
   ]
  },
  {
   "cell_type": "code",
   "execution_count": 8,
   "id": "4483ca27",
   "metadata": {},
   "outputs": [
    {
     "name": "stdout",
     "output_type": "stream",
     "text": [
      "24/24 [==============================] - 0s 3ms/step - loss: 0.5393 - accuracy: 0.7357\n",
      "Accuracy: 73.57\n"
     ]
    }
   ],
   "source": [
    "# evaluate the keras model\n",
    "_, accuracy = model.evaluate(X, y)\n",
    "print('Accuracy: %.2f' % (accuracy*100))"
   ]
  },
  {
   "cell_type": "code",
   "execution_count": null,
   "id": "bd4363d6",
   "metadata": {},
   "outputs": [],
   "source": []
  }
 ],
 "metadata": {
  "kernelspec": {
   "display_name": "Python 3 (ipykernel)",
   "language": "python",
   "name": "python3"
  },
  "language_info": {
   "codemirror_mode": {
    "name": "ipython",
    "version": 3
   },
   "file_extension": ".py",
   "mimetype": "text/x-python",
   "name": "python",
   "nbconvert_exporter": "python",
   "pygments_lexer": "ipython3",
   "version": "3.7.13"
  }
 },
 "nbformat": 4,
 "nbformat_minor": 5
}
