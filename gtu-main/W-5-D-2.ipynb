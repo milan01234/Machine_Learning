{
 "cells": [
  {
   "cell_type": "code",
   "execution_count": 1,
   "id": "b3dee992",
   "metadata": {},
   "outputs": [],
   "source": [
    "import cv2"
   ]
  },
  {
   "cell_type": "code",
   "execution_count": 2,
   "id": "2af919ba",
   "metadata": {},
   "outputs": [],
   "source": [
    "img=cv2.imread(\"cat-2083492__340.jpg\")\n"
   ]
  },
  {
   "cell_type": "code",
   "execution_count": 3,
   "id": "619401ae",
   "metadata": {},
   "outputs": [],
   "source": [
    "b,g,r=cv2.split(img)\n",
    "img=cv2.merge((b,g,r))"
   ]
  },
  {
   "cell_type": "code",
   "execution_count": 4,
   "id": "7c27b63c",
   "metadata": {},
   "outputs": [
    {
     "data": {
      "text/plain": [
       "array([[  0,  46,  28],\n",
       "       [ 20,  65,  48],\n",
       "       [ 19,  55,  43],\n",
       "       ...,\n",
       "       [ 53, 163, 159],\n",
       "       [ 54, 164, 160],\n",
       "       [ 53, 163, 159]], dtype=uint8)"
      ]
     },
     "execution_count": 4,
     "metadata": {},
     "output_type": "execute_result"
    }
   ],
   "source": [
    "img[0]"
   ]
  },
  {
   "cell_type": "code",
   "execution_count": 5,
   "id": "4b6f7053",
   "metadata": {},
   "outputs": [
    {
     "name": "stdout",
     "output_type": "stream",
     "text": [
      "[[228 228 232 ... 150 150 150]\n",
      " [242 247 243 ... 150 150 150]\n",
      " [234 235 233 ... 150 150 150]\n",
      " ...\n",
      " [228 220 207 ... 177 177 181]\n",
      " [237 220 207 ... 177 177 181]\n",
      " [236 220 207 ... 177 177 181]]\n",
      "[[238 239 244 ... 252 252 252]\n",
      " [239 241 244 ... 252 252 252]\n",
      " [242 242 245 ... 252 252 252]\n",
      " ...\n",
      " [231 232 240 ... 246 246 243]\n",
      " [231 232 240 ... 246 246 243]\n",
      " [231 232 240 ... 246 246 243]]\n",
      "[[0 0 0 ... 0 0 0]\n",
      " [0 0 0 ... 0 0 0]\n",
      " [0 0 0 ... 0 0 0]\n",
      " ...\n",
      " [0 0 0 ... 0 0 0]\n",
      " [0 0 0 ... 0 0 0]\n",
      " [0 0 0 ... 0 0 0]]\n"
     ]
    }
   ],
   "source": [
    "img[0][0]=[0,0,0]\n",
    "b=b-r\n",
    "r=r-g\n",
    "g=g-g\n",
    "print(b)\n",
    "print(r)\n",
    "print(g)"
   ]
  },
  {
   "cell_type": "code",
   "execution_count": 6,
   "id": "c72606fe",
   "metadata": {},
   "outputs": [],
   "source": [
    "img=cv2.merge((b,g,r))"
   ]
  },
  {
   "cell_type": "code",
   "execution_count": 7,
   "id": "15cd2acd",
   "metadata": {},
   "outputs": [],
   "source": [
    "for i in range(340):\n",
    "    img[0][i]=[0,0,0]    "
   ]
  },
  {
   "cell_type": "code",
   "execution_count": 8,
   "id": "684f369f",
   "metadata": {},
   "outputs": [],
   "source": [
    "cv2.imshow('cat',img)\n",
    "cv2.waitKey()\n",
    "cv2.destroyAllWindows() "
   ]
  },
  {
   "cell_type": "code",
   "execution_count": null,
   "id": "ebe4c662",
   "metadata": {},
   "outputs": [],
   "source": [
    "import numpy as np\n",
    "kernal1=np.array([[0,0,0],\n",
    "                 [0,1,0],\n",
    "                 [0,0,1]])\n",
    "identity=cv2.filter2D(src=img,ddepth=-1,kernel=kernal1)\n",
    "cv2.imshow('Original',img)\n",
    "cv2.imshow('Identity',identity)\n",
    "cv2.waitKey()\n",
    "cv2.imwrite('identity.jpg',identity)\n",
    "cv2.destroyAllWindows()"
   ]
  }
 ],
 "metadata": {
  "kernelspec": {
   "display_name": "Python 3 (ipykernel)",
   "language": "python",
   "name": "python3"
  },
  "language_info": {
   "codemirror_mode": {
    "name": "ipython",
    "version": 3
   },
   "file_extension": ".py",
   "mimetype": "text/x-python",
   "name": "python",
   "nbconvert_exporter": "python",
   "pygments_lexer": "ipython3",
   "version": "3.9.7"
  }
 },
 "nbformat": 4,
 "nbformat_minor": 5
}
