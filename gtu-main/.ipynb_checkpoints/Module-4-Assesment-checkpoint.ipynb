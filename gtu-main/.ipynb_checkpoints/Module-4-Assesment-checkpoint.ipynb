{
 "cells": [
  {
   "cell_type": "code",
   "execution_count": 1,
   "id": "83d33dbf",
   "metadata": {},
   "outputs": [],
   "source": [
    "import cv2\n",
    " \n",
    "# To read image from disk, we use\n",
    "# cv2.imread function, in below method,\n",
    "img = cv2.imread(\"cat-2083492__340.jpg\", cv2.IMREAD_COLOR)\n",
    " \n",
    "# Creating GUI window to display an image on screen\n",
    "# first Parameter is windows title (should be in string format)\n",
    "# Second Parameter is image array\n",
    "cv2.imshow(\"image\", img)\n",
    " \n",
    "# To hold the window on screen, we use cv2.waitKey method\n",
    "# Once it detected the close input, it will release the control\n",
    "# To the next line\n",
    "# First Parameter is for holding screen for specified milliseconds\n",
    "# It should be positive integer. If 0 pass an parameter, then it will\n",
    "# hold the screen until user close it.\n",
    "cv2.waitKey(0)\n",
    " \n",
    "# It is for removing/deleting created GUI window from screen\n",
    "# and memory\n",
    "cv2.destroyAllWindows()"
   ]
  }
 ],
 "metadata": {
  "kernelspec": {
   "display_name": "Python 3 (ipykernel)",
   "language": "python",
   "name": "python3"
  },
  "language_info": {
   "codemirror_mode": {
    "name": "ipython",
    "version": 3
   },
   "file_extension": ".py",
   "mimetype": "text/x-python",
   "name": "python",
   "nbconvert_exporter": "python",
   "pygments_lexer": "ipython3",
   "version": "3.10.9"
  }
 },
 "nbformat": 4,
 "nbformat_minor": 5
}
