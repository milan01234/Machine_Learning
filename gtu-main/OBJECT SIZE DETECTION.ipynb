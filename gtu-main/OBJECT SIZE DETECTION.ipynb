{
 "cells": [
  {
   "cell_type": "code",
   "execution_count": 2,
   "id": "3c0569fe",
   "metadata": {},
   "outputs": [
    {
     "name": "stdout",
     "output_type": "stream",
     "text": [
      "Image Dimension    :  (340, 557, 3)\n",
      "Image Height       :  340\n",
      "Image Width        :  557\n"
     ]
    }
   ],
   "source": [
    "import cv2\n",
    "img = cv2.imread('cat-2083492__340.jpg', cv2.IMREAD_UNCHANGED)\n",
    "\n",
    "dimensions = img.shape\n",
    "\n",
    "height = img.shape[0]\n",
    "width = img.shape[1]\n",
    " \n",
    "print('Image Dimension    : ',dimensions)\n",
    "print('Image Height       : ',height)\n",
    "print('Image Width        : ',width)"
   ]
  }
 ],
 "metadata": {
  "kernelspec": {
   "display_name": "Python 3 (ipykernel)",
   "language": "python",
   "name": "python3"
  },
  "language_info": {
   "codemirror_mode": {
    "name": "ipython",
    "version": 3
   },
   "file_extension": ".py",
   "mimetype": "text/x-python",
   "name": "python",
   "nbconvert_exporter": "python",
   "pygments_lexer": "ipython3",
   "version": "3.10.9"
  }
 },
 "nbformat": 4,
 "nbformat_minor": 5
}
