{
 "cells": [
  {
   "cell_type": "code",
   "execution_count": 1,
   "id": "aab340ca",
   "metadata": {},
   "outputs": [
    {
     "data": {
      "text/plain": [
       "(1, 2, 2323, 'ggwg', 43.45)"
      ]
     },
     "execution_count": 1,
     "metadata": {},
     "output_type": "execute_result"
    }
   ],
   "source": [
    "T=(1,2,2323,'ggwg',43.45)\n",
    "T"
   ]
  },
  {
   "cell_type": "code",
   "execution_count": 2,
   "id": "3f3e8f3b",
   "metadata": {},
   "outputs": [
    {
     "name": "stdout",
     "output_type": "stream",
     "text": [
      "(2323, 'ggwg', 43.45)\n"
     ]
    }
   ],
   "source": [
    "print(T[2:5])"
   ]
  },
  {
   "cell_type": "code",
   "execution_count": 6,
   "id": "7aa3604a",
   "metadata": {},
   "outputs": [
    {
     "data": {
      "text/plain": [
       "['pqrs', 123, 1000, 'python', 98.6]"
      ]
     },
     "execution_count": 6,
     "metadata": {},
     "output_type": "execute_result"
    }
   ],
   "source": [
    "tuple=('pqrs',123,2.14,'python',98.6)\n",
    "list1=['pqrs',123,2.14,'python',98.6]\n",
    "#tuple[2]=1000\n",
    "list1[2]=1000\n",
    "list1"
   ]
  },
  {
   "cell_type": "code",
   "execution_count": 13,
   "id": "44573cd5",
   "metadata": {},
   "outputs": [
    {
     "name": "stdout",
     "output_type": "stream",
     "text": [
      "{'name': 'rohit', 'id': '1234', 'dept': 'technical'}\n",
      "{'one': 'this is python', 2: 'this is java'}\n",
      "dict_keys(['name', 'id', 'dept'])\n",
      "dict_keys(['one', 2])\n",
      "dict_values(['rohit', '1234', 'technical'])\n",
      "dict_values(['this is python', 'this is java'])\n"
     ]
    }
   ],
   "source": [
    "dict1={'name':\"rohit\",'id':\"1234\",'dept':\"technical\"}\n",
    "dict2={}\n",
    "dict2['one']=\"this is python\"\n",
    "dict2[2]=\"this is java\"\n",
    "print(dict1)\n",
    "print(dict2)\n",
    "print(dict1.keys())\n",
    "print(dict2.keys())\n",
    "print(dict1.values())\n",
    "print(dict2.values())"
   ]
  },
  {
   "cell_type": "code",
   "execution_count": 16,
   "id": "3b2c41f1",
   "metadata": {},
   "outputs": [
    {
     "name": "stdout",
     "output_type": "stream",
     "text": [
      "the count is  0\n",
      "the count is  1\n",
      "the count is  2\n",
      "the count is  3\n",
      "the count is  4\n",
      "the count is  5\n",
      "the count is  6\n",
      "the count is  7\n",
      "the count is  8\n",
      "good bye\n"
     ]
    }
   ],
   "source": [
    "count=0\n",
    "while(count<9):\n",
    "    print(\"the count is \",count)\n",
    "    count=count+1\n",
    "print(\"good bye\")"
   ]
  },
  {
   "cell_type": "code",
   "execution_count": 17,
   "id": "83a27042",
   "metadata": {},
   "outputs": [
    {
     "name": "stdout",
     "output_type": "stream",
     "text": [
      "0 is less than 5\n",
      "1 is less than 5\n",
      "2 is less than 5\n",
      "3 is less than 5\n",
      "4 is less than 5\n",
      "5 is grater than 5\n"
     ]
    }
   ],
   "source": [
    "count=0\n",
    "while count<5:\n",
    "    print(count,\"is less than 5\")\n",
    "    count=count+1\n",
    "else:\n",
    "    print(count,\"is grater than 5\")"
   ]
  },
  {
   "cell_type": "code",
   "execution_count": 19,
   "id": "0ff0ef4d",
   "metadata": {},
   "outputs": [
    {
     "name": "stdout",
     "output_type": "stream",
     "text": [
      "current letter p\n",
      "current letter y\n",
      "current letter t\n",
      "current letter h\n",
      "current letter o\n",
      "current letter n\n",
      "current fruit banana\n",
      "current fruit apple\n",
      "current fruit mango\n",
      "good bye!!!\n"
     ]
    }
   ],
   "source": [
    "for letter in \"python\":\n",
    "    print(\"current letter\",letter)\n",
    "fruit=['banana','apple','mango']\n",
    "for fruit in fruit:\n",
    "    print(\"current fruit\",fruit)\n",
    "print(\"good bye!!!\")"
   ]
  },
  {
   "cell_type": "code",
   "execution_count": 32,
   "id": "62a250f1",
   "metadata": {},
   "outputs": [
    {
     "name": "stdout",
     "output_type": "stream",
     "text": [
      "10 equals 2 * 5\n",
      "12 equals 2 * 6\n",
      "14 equals 2 * 7\n",
      "16 equals 2 * 8\n",
      "18 equals 2 * 9\n"
     ]
    }
   ],
   "source": [
    "for num in range(10,20):\n",
    "    for i in range(2,num):\n",
    "        if num%i==0:\n",
    "            j=num/i\n",
    "            print('%d equals %d * %d' % (num,i,j))\n",
    "        break\n",
    "    else:\n",
    "            print(num,'is a prime number')\n",
    "            break    \n",
    "           "
   ]
  },
  {
   "cell_type": "code",
   "execution_count": 28,
   "id": "a76a81c0",
   "metadata": {},
   "outputs": [
    {
     "name": "stdout",
     "output_type": "stream",
     "text": [
      "10\n",
      "11\n",
      "12\n",
      "13\n",
      "14\n",
      "15\n",
      "16\n",
      "17\n",
      "18\n",
      "19\n"
     ]
    }
   ],
   "source": [
    "for num in range(10,20):\n",
    "    print(num)"
   ]
  },
  {
   "cell_type": "code",
   "execution_count": 41,
   "id": "3239e880",
   "metadata": {},
   "outputs": [
    {
     "data": {
      "text/plain": [
       "10"
      ]
     },
     "execution_count": 41,
     "metadata": {},
     "output_type": "execute_result"
    }
   ],
   "source": [
    "str=\"university\"\n",
    "len(str)"
   ]
  },
  {
   "cell_type": "code",
   "execution_count": null,
   "id": "b3cee9e5",
   "metadata": {},
   "outputs": [],
   "source": [
    "list1=['parul','bharat']"
   ]
  },
  {
   "cell_type": "code",
   "execution_count": 1,
   "id": "7ab72172",
   "metadata": {},
   "outputs": [
    {
     "name": "stdout",
     "output_type": "stream",
     "text": [
      "4\n",
      "3\n"
     ]
    }
   ],
   "source": [
    "a=3\n",
    "b=4\n",
    "a,b=b,a\n",
    "print(a)\n",
    "print(b)"
   ]
  }
 ],
 "metadata": {
  "kernelspec": {
   "display_name": "Python 3 (ipykernel)",
   "language": "python",
   "name": "python3"
  },
  "language_info": {
   "codemirror_mode": {
    "name": "ipython",
    "version": 3
   },
   "file_extension": ".py",
   "mimetype": "text/x-python",
   "name": "python",
   "nbconvert_exporter": "python",
   "pygments_lexer": "ipython3",
   "version": "3.10.9"
  }
 },
 "nbformat": 4,
 "nbformat_minor": 5
}
